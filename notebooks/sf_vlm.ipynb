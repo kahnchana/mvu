{
 "cells": [
  {
   "cell_type": "markdown",
   "id": "b1957850-27d0-4f01-904b-ecc3f950e0c4",
   "metadata": {},
   "source": [
    "# Evaluate Single-Frame VLM variant\n",
    "\n",
    "\n",
    "## Requirements\n",
    "```\n",
    "pip install git+https://github.com/haotian-liu/LLaVA.git\n",
    "pip install decord==0.6.0\n",
    "```"
   ]
  },
  {
   "cell_type": "code",
   "execution_count": 4,
   "id": "3d15f600-1485-4af1-a300-d3c333b609b0",
   "metadata": {},
   "outputs": [],
   "source": [
    "from IPython.display import clear_output\n",
    "\n",
    "import os\n",
    "from PIL import Image\n",
    "import time\n",
    "from tqdm import tqdm\n",
    "\n",
    "import torch\n",
    "from llava.constants import IMAGE_TOKEN_INDEX, DEFAULT_IMAGE_TOKEN, DEFAULT_IM_START_TOKEN, DEFAULT_IM_END_TOKEN, IGNORE_INDEX\n",
    "from llava.conversation import conv_templates\n",
    "from llava.model.builder import load_pretrained_model\n",
    "from llava.utils import disable_torch_init\n",
    "from llava.mm_utils import tokenizer_image_token, process_images, get_model_name_from_path\n",
    "\n",
    "from utils import get_ego_schema, calc_loglikelihood, download_ego_schema_center_frames\n",
    "from vlm_inference import prepare_inputs\n",
    "\n",
    "clear_output(wait=False)"
   ]
  },
  {
   "cell_type": "code",
   "execution_count": 3,
   "id": "75122584-c063-4321-8c65-5067c7210bee",
   "metadata": {},
   "outputs": [],
   "source": [
    "# Load Model\n",
    "disable_torch_init()\n",
    "model_path = os.path.expanduser(\"liuhaotian/llava-v1.5-13b\")\n",
    "model_name = get_model_name_from_path(model_path)\n",
    "tokenizer, model, image_processor, context_len = load_pretrained_model(\n",
    "    model_path, args.model_base, model_name)\n",
    "\n",
    "# Setup conversation mode\n",
    "if 'plain' in model_name and 'finetune' not in model_name.lower() and 'mmtag' not in args.conv_mode:\n",
    "    args.conv_mode = args.conv_mode + '_mmtag'\n",
    "    print(\n",
    "        f'It seems that this is a plain model, but it is not using a mmtag prompt, auto switching to {args.conv_mode}.')\n",
    "\n",
    "# Load Data\n",
    "dataset = get_ego_schema()\n",
    "data_root = download_ego_schema_center_frames(save_path=\"temp_data/\")"
   ]
  },
  {
   "cell_type": "code",
   "execution_count": null,
   "id": "5af203fd-bf75-4df8-bcf5-3b7777facf8a",
   "metadata": {},
   "outputs": [],
   "source": [
    "correct, total = 0, 0\n",
    "st = time.time()\n",
    "for index, datum in tqdm(enumerate(dataset), total=len(dataset)):\n",
    "    # load center frame\n",
    "    frame_path = f\"{data_root}/{datum['q_uid']}.mp4\"\n",
    "    c_frame = Image.open(frame_path)\n",
    "\n",
    "    batch, raw_prompts = prepare_inputs(c_frame, datum, model.config, tokenizer, image_processor)\n",
    "    batch = {x: y.to(device='cuda', non_blocking=True) for x, y in batch.items()}\n",
    "    batch['images'] = batch['images'].to(dtype=torch.float16)\n",
    "    with torch.inference_mode():\n",
    "        outputs = model(**batch)\n",
    "\n",
    "    seq_len = batch['labels'].shape[-1]\n",
    "    loss = calc_loglikelihood(outputs.logits.detach()[:, -seq_len:], batch['labels'])\n",
    "    pred = loss.argmin().item()\n",
    "\n",
    "    answer = datum['ans']\n",
    "    correct += answer == pred\n",
    "    total += 1\n",
    "    if (total + 1) % 100 == 0:\n",
    "        print(f\"Accuracy: {correct / total}\")\n",
    "et = time.time()\n",
    "\n",
    "print(f\"Final Accuracy: {100 * correct / total} %\")\n",
    "print(f\"Time Taken Per Iteration: {(et - st) / 500}\")"
   ]
  }
 ],
 "metadata": {
  "kernelspec": {
   "display_name": "Python [conda env:llava]",
   "language": "python",
   "name": "conda-env-llava-py"
  },
  "language_info": {
   "codemirror_mode": {
    "name": "ipython",
    "version": 3
   },
   "file_extension": ".py",
   "mimetype": "text/x-python",
   "name": "python",
   "nbconvert_exporter": "python",
   "pygments_lexer": "ipython3",
   "version": "3.10.13"
  }
 },
 "nbformat": 4,
 "nbformat_minor": 5
}
